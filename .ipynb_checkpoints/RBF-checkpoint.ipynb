{
 "cells": [
  {
   "cell_type": "code",
   "execution_count": 1,
   "id": "3ec4de04-be3a-4023-9b0e-6e80ee198718",
   "metadata": {},
   "outputs": [],
   "source": [
    "using LinearAlgebra\n",
    "using SparseArrays\n",
    "using ArnoldiMethod\n",
    "using PyPlot"
   ]
  },
  {
   "cell_type": "markdown",
   "id": "5cfde228-1034-4ada-b789-a130f60a9583",
   "metadata": {},
   "source": [
    "Exact diagonalization of the restricted bose-fermi model"
   ]
  },
  {
   "cell_type": "markdown",
   "id": "89fed462-9921-43fe-a0df-a583efa9750a",
   "metadata": {
    "jp-MarkdownHeadingCollapsed": true
   },
   "source": [
    "# V1"
   ]
  },
  {
   "cell_type": "code",
   "execution_count": 2,
   "id": "f8dbd40a-a665-4fdc-a741-274cd8120f8e",
   "metadata": {},
   "outputs": [
    {
     "data": {
      "text/plain": [
       "FermiLabels (generic function with 1 method)"
      ]
     },
     "execution_count": 2,
     "metadata": {},
     "output_type": "execute_result"
    }
   ],
   "source": [
    "function FermiLabels(L)\n",
    "    Labels = Dict()\n",
    "    n = 0\n",
    "    for ii in 1:L\n",
    "        for jj in ii+1:L\n",
    "            n += 1\n",
    "            label = zeros(Int, L)\n",
    "            label[ii] = 1\n",
    "            label[jj] = 1\n",
    "            Labels[label] = n\n",
    "        end\n",
    "    end\n",
    "    return Labels\n",
    "end"
   ]
  },
  {
   "cell_type": "code",
   "execution_count": 3,
   "id": "133653fe-1f80-48b8-be06-9e99b192f85a",
   "metadata": {},
   "outputs": [
    {
     "name": "stdout",
     "output_type": "stream",
     "text": [
      "1"
     ]
    }
   ],
   "source": [
    "Test = Dict()\n",
    "a = zeros(Int,3)\n",
    "a[1]=1; a[2]=2; a[3]=3\n",
    "b = zeros(Int,3)\n",
    "Test[(a,b)] = 1\n",
    "x = get(Test, (a,b), 0)\n",
    "print(x)"
   ]
  },
  {
   "cell_type": "code",
   "execution_count": 4,
   "id": "4202880f-8f21-496b-801a-c301140037a5",
   "metadata": {},
   "outputs": [
    {
     "data": {
      "text/plain": [
       "BoseLabels (generic function with 1 method)"
      ]
     },
     "execution_count": 4,
     "metadata": {},
     "output_type": "execute_result"
    }
   ],
   "source": [
    "function BoseLabels(L, N)\n",
    "        \n",
    "    Labels = []\n",
    "\n",
    "    n = 1\n",
    "    label = zeros(Int, L)\n",
    "    label[1] = N\n",
    "    push!(Labels, copy(label))\n",
    "    \n",
    "    while label[L] ≠ N\n",
    "        \n",
    "        n += 1\n",
    "        label[L] = N\n",
    "        \n",
    "        kk = L-1\n",
    "        while label[kk] == 0\n",
    "            kk -= 1\n",
    "        end\n",
    "        \n",
    "        label[kk] -= 1\n",
    "        label[kk+1] = N-sum(label[1:kk])\n",
    "        label[kk+2:L] .= 0\n",
    "        push!(Labels, copy(label))\n",
    "    end\n",
    "    return Labels\n",
    "end"
   ]
  },
  {
   "cell_type": "code",
   "execution_count": 5,
   "id": "a67f4385-828d-4b85-a8ab-14bad78cf99f",
   "metadata": {},
   "outputs": [
    {
     "data": {
      "text/plain": [
       "BoseFermiLabels_OC (generic function with 1 method)"
      ]
     },
     "execution_count": 5,
     "metadata": {},
     "output_type": "execute_result"
    }
   ],
   "source": [
    "function BoseFermiLabels_OC(L, N1, N2)\n",
    "\n",
    "    δd(ll, L) = (ll-1+L)%L+1\n",
    "\n",
    "    if N1 == 0\n",
    "        BoseLabels1 = [[[]]]\n",
    "    else\n",
    "        BoseLabels1 = [[]]\n",
    "    end\n",
    "    if N2 == 0\n",
    "        BoseLabels2 = [[[]]]\n",
    "    else\n",
    "        BoseLabels2 = [[]]\n",
    "    end\n",
    "            \n",
    "    for l in 1:L-2\n",
    "        push!(BoseLabels1, BoseLabels(l, N1))\n",
    "        push!(BoseLabels2, BoseLabels(l, N2))\n",
    "    end\n",
    "    \n",
    "    Labels = Dict()\n",
    "    n = 0\n",
    "    for ii in 1:L-1\n",
    "        for jj in ii+1:L\n",
    "            L1 = jj-ii\n",
    "            L2 = L-L1\n",
    "            for BL1 in BoseLabels1[L1]\n",
    "                for BL2 in BoseLabels2[L2]\n",
    "                    \n",
    "                    label = zeros(Int, 2*L)\n",
    "                    label[2*ii] = 1\n",
    "                    label[2*jj] = 1\n",
    "\n",
    "                    kk = 0\n",
    "                    for n in BL1\n",
    "                        kk += 1\n",
    "                        label[2*δd(ii+kk, L)-1] = n\n",
    "                    end\n",
    "\n",
    "                    ll = 0\n",
    "                    for m in BL2\n",
    "                        ll += 1\n",
    "                        label[2*δd(jj+ll, L)-1] = m\n",
    "                    end\n",
    "\n",
    "                    n += 1\n",
    "                    Labels[label] = n\n",
    "                end\n",
    "            end\n",
    "        end\n",
    "    end\n",
    "    return Labels\n",
    "end"
   ]
  },
  {
   "cell_type": "code",
   "execution_count": 6,
   "id": "0a545cc4-8ad7-468f-94de-b5ab90bad6a5",
   "metadata": {},
   "outputs": [
    {
     "data": {
      "text/plain": [
       "ConstructHamiltonian_OC (generic function with 1 method)"
      ]
     },
     "execution_count": 6,
     "metadata": {},
     "output_type": "execute_result"
    }
   ],
   "source": [
    "function AddTerm!(X, Y, V, x, y, v)\n",
    "    push!(X, x)\n",
    "    push!(Y, y)\n",
    "    push!(V, v)\n",
    "end\n",
    "\n",
    "function ConstructHamiltonian_OC(L, N1, N2, Labels, UBB)\n",
    "    \n",
    "    X = Vector{Float64}()\n",
    "    Y = Vector{Float64}()\n",
    "    V = Vector{Float64}()\n",
    "\n",
    "    for (state, x) in Labels\n",
    "        for ii in 1:L-1\n",
    "            # Fermion hopping\n",
    "            new_state = copy(state)\n",
    "            new_state[2*ii] -= 1\n",
    "            new_state[2*(ii+1)] += 1\n",
    "            y = get(Labels, new_state, 0)\n",
    "            AddTerm!(X, Y, V, x, y, -1.)\n",
    "            \n",
    "            new_state = copy(state)\n",
    "            new_state[2*(ii+1)] -= 1\n",
    "            new_state[2*ii] += 1\n",
    "            y = get(Labels, new_state, 0)\n",
    "            AddTerm!(X, Y, V, x, y, -1.)\n",
    "\n",
    "            # Boson hopping\n",
    "            new_state = copy(state)\n",
    "            new_state[2*ii-1] -= 1\n",
    "            new_state[2*(ii+1)-1] += 1\n",
    "            y = get(Labels, new_state, 0)\n",
    "            AddTerm!(X, Y, V, x, y, -√(state[2*ii-1]*new_state[2*(ii+1)-1]))\n",
    "            \n",
    "            new_state = copy(state)\n",
    "            new_state[2*(ii+1)-1] -= 1\n",
    "            new_state[2*ii-1] += 1\n",
    "            y = get(Labels, new_state, 0)\n",
    "            AddTerm!(X, Y, V, x, y, -√(state[2*(ii+1)-1]*new_state[2*ii-1]))\n",
    "\n",
    "            # Boson interaction\n",
    "            new_state = copy(state)\n",
    "            y = x\n",
    "            AddTerm!(X, Y, V, x, y, 0.5*UBB*state[2*ii-1]*(state[2*ii-1]-1))\n",
    "        end\n",
    "\n",
    "        # Periodic boundary conditions\n",
    "        new_state = copy(state)\n",
    "        new_state[1] -= 1\n",
    "        new_state[2*L-1] += 1\n",
    "        y = get(Labels, new_state, 0)\n",
    "        AddTerm!(X, Y, V, x, y, -√(state[1]*state[2*L-1]))\n",
    "        \n",
    "        new_state = copy(state)\n",
    "        new_state[2*L-1] -= 1\n",
    "        new_state[1] += 1\n",
    "        y = get(Labels, new_state, 0)\n",
    "        AddTerm!(X, Y, V, x, y, -√(state[1]*state[2*L-1]))\n",
    "    end\n",
    "    \n",
    "    # Filter non included values\n",
    "    extra = findall(jj -> jj == 0, Y)\n",
    "    deleteat!(V, extra)\n",
    "    deleteat!(X, extra)\n",
    "    deleteat!(Y, extra)\n",
    "    \n",
    "    H = sparse(X, Y, V)\n",
    "    return H\n",
    "end"
   ]
  },
  {
   "cell_type": "code",
   "execution_count": 7,
   "id": "c13946d2-9766-4908-a8ed-6e54463cbae4",
   "metadata": {
    "scrolled": true
   },
   "outputs": [
    {
     "data": {
      "text/plain": [
       "GetDensities (generic function with 1 method)"
      ]
     },
     "execution_count": 7,
     "metadata": {},
     "output_type": "execute_result"
    }
   ],
   "source": [
    "function GetDensities(L, Labels, ψ)\n",
    "    nᵇ = zeros(L)\n",
    "    nᶠ = zeros(L)\n",
    "    for (state, x) in Labels\n",
    "        for ii in 1:L\n",
    "            nᵇ[ii] += state[2*ii-1]*ψ[x]^2\n",
    "            nᶠ[ii] += state[2*ii]*ψ[x]^2\n",
    "        end\n",
    "  \n",
    "    end\n",
    "    return nᶠ, nᵇ\n",
    "end"
   ]
  },
  {
   "cell_type": "code",
   "execution_count": 8,
   "id": "6bbc3cd9-20b6-4af4-b6e7-156b4ed752fd",
   "metadata": {},
   "outputs": [
    {
     "data": {
      "text/plain": [
       "1.0e-8"
      ]
     },
     "execution_count": 8,
     "metadata": {},
     "output_type": "execute_result"
    }
   ],
   "source": [
    "L = 10\n",
    "N = L\n",
    "UBB = 10.\n",
    "M = 5\n",
    "tol = 1e-8"
   ]
  },
  {
   "cell_type": "code",
   "execution_count": 9,
   "id": "3837c2b8-dbd0-41cf-a736-7f4cca7bcaac",
   "metadata": {},
   "outputs": [
    {
     "data": {
      "text/plain": [
       "\u001b[32mConverged\u001b[39m: 5 of 5 eigenvalues in 683 matrix-vector products"
      ]
     },
     "execution_count": 9,
     "metadata": {},
     "output_type": "execute_result"
    }
   ],
   "source": [
    "Labels = BoseFermiLabels_OC(L, 0, N)\n",
    "H = ConstructHamiltonian_OC(L, 0, N, Labels, UBB)\n",
    "decomp, history = partialschur(H, nev=M, tol=tol, which=SR())\n",
    "E, ψ = partialeigen(decomp)\n",
    "history"
   ]
  },
  {
   "cell_type": "code",
   "execution_count": 13,
   "id": "1e4eb3df-dffc-4137-91e2-89614a7157bb",
   "metadata": {},
   "outputs": [
    {
     "data": {
      "image/png": "[encoded data removed]",
      "text/plain": [
       "Figure(PyObject <Figure size 640x480 with 2 Axes>)"
      ]
     },
     "metadata": {},
     "output_type": "display_data"
    },
    {
     "data": {
      "text/plain": [
       "1-element Vector{PyCall.PyObject}:\n",
       " PyObject <matplotlib.lines.Line2D object at 0x7f1779c00790>"
      ]
     },
     "execution_count": 13,
     "metadata": {},
     "output_type": "execute_result"
    }
   ],
   "source": [
    "ψ₀ = decomp.Q[:,1]\n",
    "nᶠ, nᵇ = GetDensities(L, Labels, ψ₀)\n",
    "fig, axs = subplots(1, 2)\n",
    "axs[1].plot(1:L, nᶠ, marker=\"o\")\n",
    "axs[2].plot(1:L, nᵇ, marker=\"o\")"
   ]
  },
  {
   "cell_type": "markdown",
   "id": "8a6d08a1-c5dd-492b-af8f-8d463b51f842",
   "metadata": {},
   "source": [
    "# V2"
   ]
  },
  {
   "cell_type": "code",
   "execution_count": 2,
   "id": "dd57c72d-b4a4-4010-8738-72593b3d9897",
   "metadata": {},
   "outputs": [
    {
     "data": {
      "text/plain": [
       "BoseLabels (generic function with 1 method)"
      ]
     },
     "execution_count": 2,
     "metadata": {},
     "output_type": "execute_result"
    }
   ],
   "source": [
    "function BoseLabels(L, N) \n",
    "    BLabels = []\n",
    "\n",
    "    n = 1\n",
    "    label = zeros(Int, L)\n",
    "    label[1] = N\n",
    "    push!(BLabels, copy(label))\n",
    "    \n",
    "    while label[L] ≠ N\n",
    "        \n",
    "        n += 1\n",
    "        label[L] = N\n",
    "        \n",
    "        kk = L-1\n",
    "        while label[kk] == 0\n",
    "            kk -= 1\n",
    "        end\n",
    "        \n",
    "        label[kk] -= 1\n",
    "        label[kk+1] = N-sum(label[1:kk])\n",
    "        label[kk+2:L] .= 0\n",
    "        push!(BLabels, copy(label))\n",
    "    end\n",
    "    return BLabels\n",
    "end"
   ]
  },
  {
   "cell_type": "code",
   "execution_count": 3,
   "id": "3ea2e743-c407-4bc5-b8f6-2401aef8de2b",
   "metadata": {},
   "outputs": [
    {
     "data": {
      "text/plain": [
       "FermiLabels (generic function with 1 method)"
      ]
     },
     "execution_count": 3,
     "metadata": {},
     "output_type": "execute_result"
    }
   ],
   "source": [
    "function FermiLabels(L, N_list, BC)\n",
    "    FLabels = []\n",
    "\n",
    "    if BC == :OO\n",
    "        \n",
    "        if N_list[1] ≠ 0\n",
    "            ii_i = 2\n",
    "        else\n",
    "            ii_i = 1\n",
    "        end\n",
    "        if N_list[2] ≠ 0\n",
    "            dij = 2\n",
    "        else\n",
    "            dij = 1\n",
    "        end\n",
    "        if N_list[3] ≠ 0\n",
    "            jj_f = L-1\n",
    "        else\n",
    "            jj_f = L\n",
    "        end\n",
    "        \n",
    "        for ii in ii_i:L\n",
    "            for jj in ii+dij:jj_f\n",
    "                push!(FLabels, [ii, jj])\n",
    "            end\n",
    "        end\n",
    "        \n",
    "    elseif BC == :CO\n",
    "        \n",
    "        if N_list[1] ≠ 0\n",
    "            dij = 2\n",
    "        else\n",
    "            dij = 1\n",
    "        end\n",
    "        if N_list[2] ≠ 0\n",
    "            jj_f = L-1\n",
    "        else\n",
    "            jj_f = L\n",
    "        end\n",
    "\n",
    "        ii = 1\n",
    "            for jj in ii+dij:jj_f\n",
    "                push!(FLabels, [ii, jj])\n",
    "            end  \n",
    "        for ii in 2:L\n",
    "            for jj in ii+dij:L\n",
    "                push!(FLabels, [ii, jj])\n",
    "            end\n",
    "        end\n",
    "        \n",
    "    end\n",
    "        \n",
    "    return FLabels\n",
    "end"
   ]
  },
  {
   "cell_type": "code",
   "execution_count": 4,
   "id": "38f9350f-78a6-4067-85f2-dc63c40432f1",
   "metadata": {},
   "outputs": [
    {
     "data": {
      "text/plain": [
       "BoseFermiLabels (generic function with 2 methods)"
      ]
     },
     "execution_count": 4,
     "metadata": {},
     "output_type": "execute_result"
    }
   ],
   "source": [
    "function BoseFermiLabels(L, N_list, BC=:OO)\n",
    "\n",
    "    # Exceptions\n",
    "    if (BC == :OO && length(N_list) ≠ 3) || (BC == :CO && length(N_list) ≠ 2)   \n",
    "        return Dict()\n",
    "    end\n",
    "\n",
    "    # Create all boson distributions for a given number of bosons and sites\n",
    "    BLabels_list = [[[[]]] for N in N_list]\n",
    "    for l in 1:L-2\n",
    "        for (ii, N) in enumerate(N_list)\n",
    "            push!(BLabels_list[ii], BoseLabels(l, N))\n",
    "        end\n",
    "    end\n",
    "\n",
    "    # Create all fermion locations for a given set of boson distribution\n",
    "    FLabels = FermiLabels(L, N_list, BC)\n",
    "\n",
    "    # Concatenate all combinations of bosons and fermions distributions\n",
    "    Labels = Dict()\n",
    "    if BC == :OO\n",
    "        n = 0\n",
    "        for FLabel in FLabels\n",
    "            L1 = FLabel[1]-1\n",
    "            L2 = FLabel[2]-FLabel[1]-1\n",
    "            L3 = L-FLabel[2]\n",
    "            for BLabel1 in BLabels_list[1][L1+1]\n",
    "                for BLabel2 in BLabels_list[2][L2+1]\n",
    "                    for BLabel3 in BLabels_list[3][L3+1]\n",
    "                        n += 1\n",
    "                        BFLabel = [FLabel; BLabel1; BLabel2; BLabel3]\n",
    "                        Labels[BFLabel] = n\n",
    "                    end\n",
    "                end\n",
    "            end\n",
    "        end\n",
    "    elseif BC == :CO\n",
    "        n = 0\n",
    "        for FLabel in FLabels\n",
    "            L1 = FLabel[2]-FLabel[1]-1\n",
    "            L2 = L+FLabel[1]-FLabel[2]-1\n",
    "            for BLabel1 in BLabels_list[1][L1+1]\n",
    "                for BLabel2 in BLabels_list[2][L2+1]\n",
    "                    n += 1\n",
    "                    BFLabel = [FLabel; BLabel1; BLabel2]\n",
    "                    Labels[BFLabel] = n\n",
    "                end\n",
    "            end\n",
    "        end\n",
    "    end\n",
    "\n",
    "    return Labels\n",
    "end"
   ]
  },
  {
   "cell_type": "code",
   "execution_count": 5,
   "id": "e1887161-6d7a-4980-bea7-9556f342c23f",
   "metadata": {},
   "outputs": [
    {
     "data": {
      "text/plain": [
       "ShowLabel (generic function with 2 methods)"
      ]
     },
     "execution_count": 5,
     "metadata": {},
     "output_type": "execute_result"
    }
   ],
   "source": [
    "function ShowLabel(BFLabel, BC=:OO)\n",
    "    L = length(BFLabel)\n",
    "    configuration = [\"o\" for n in 1:L]\n",
    "    if BC == :OO\n",
    "        ii = BFLabel[1]\n",
    "        jj = BFLabel[2]\n",
    "        for n in 1:ii-1\n",
    "            configuration[n] = string(BFLabel[n+2])\n",
    "        end\n",
    "        configuration[ii] = \"x\"\n",
    "        for n in ii+1:jj-1\n",
    "            configuration[n] = string(BFLabel[n+1])\n",
    "        end\n",
    "        configuration[jj] = \"x\"\n",
    "        for n in jj+1:L\n",
    "            configuration[n] = string(BFLabel[n])\n",
    "        end\n",
    "        return configuration\n",
    "    elseif BC == :CO\n",
    "        ii = BFLabel[1]\n",
    "        jj = BFLabel[2]\n",
    "        configuration[ii] = \"x\"\n",
    "        for n in 1:jj-ii-1\n",
    "            configuration[n+ii] = string(BFLabel[n+2])\n",
    "        end\n",
    "        configuration[jj] = \"x\"\n",
    "        for n in jj-ii+1:L-ii\n",
    "            configuration[n+ii] = string(BFLabel[n+1])\n",
    "        end\n",
    "        for n in L-ii+1:L-1\n",
    "            configuration[n+ii-L] = string(BFLabel[n+1])\n",
    "        end\n",
    "        return configuration\n",
    "    end\n",
    "end "
   ]
  },
  {
   "cell_type": "code",
   "execution_count": 6,
   "id": "b90c4cb6-3534-4a2e-b7e6-39115f04b579",
   "metadata": {
    "scrolled": true
   },
   "outputs": [
    {
     "name": "stdout",
     "output_type": "stream",
     "text": [
      "[\"x\", \"1\", \"1\", \"3\", \"x\"]Any[1, 5, 1, 1, 3]\n",
      "[\"0\", \"x\", \"3\", \"2\", \"x\"]Any[2, 5, 0, 3, 2]\n",
      "[\"x\", \"4\", \"1\", \"x\", \"0\"]Any[1, 4, 4, 1, 0]\n",
      "[\"x\", \"5\", \"0\", \"x\", \"0\"]Any[1, 4, 5, 0, 0]\n",
      "[\"x\", \"0\", \"5\", \"x\", \"0\"]Any[1, 4, 0, 5, 0]\n",
      "[\"x\", \"1\", \"3\", \"1\", \"x\"]Any[1, 5, 1, 3, 1]\n",
      "[\"x\", \"3\", \"2\", \"0\", \"x\"]Any[1, 5, 3, 2, 0]\n",
      "[\"x\", \"1\", \"4\", \"0\", \"x\"]Any[1, 5, 1, 4, 0]\n",
      "[\"0\", \"x\", \"5\", \"x\", \"0\"]Any[2, 4, 0, 5, 0]\n",
      "[\"x\", \"1\", \"0\", \"4\", \"x\"]Any[1, 5, 1, 0, 4]\n",
      "[\"x\", \"2\", \"0\", \"3\", \"x\"]Any[1, 5, 2, 0, 3]\n",
      "[\"x\", \"2\", \"2\", \"1\", \"x\"]Any[1, 5, 2, 2, 1]\n",
      "[\"x\", \"3\", \"0\", \"2\", \"x\"]Any[1, 5, 3, 0, 2]\n",
      "[\"x\", \"0\", \"4\", \"1\", \"x\"]Any[1, 5, 0, 4, 1]\n",
      "[\"x\", \"2\", \"3\", \"0\", \"x\"]Any[1, 5, 2, 3, 0]\n",
      "[\"x\", \"3\", \"2\", \"x\", \"0\"]Any[1, 4, 3, 2, 0]\n",
      "[\"x\", \"1\", \"4\", \"x\", \"0\"]Any[1, 4, 1, 4, 0]\n",
      "[\"x\", \"5\", \"x\", \"0\", \"0\"]Any[1, 3, 5, 0, 0]\n",
      "[\"x\", \"0\", \"2\", \"3\", \"x\"]Any[1, 5, 0, 2, 3]\n",
      "[\"0\", \"x\", \"4\", \"1\", \"x\"]Any[2, 5, 0, 4, 1]\n",
      "[\"x\", \"1\", \"2\", \"2\", \"x\"]Any[1, 5, 1, 2, 2]\n",
      "[\"x\", \"4\", \"0\", \"1\", \"x\"]Any[1, 5, 4, 0, 1]\n",
      "[\"x\", \"0\", \"1\", \"4\", \"x\"]Any[1, 5, 0, 1, 4]\n",
      "[\"0\", \"x\", \"2\", \"3\", \"x\"]Any[2, 5, 0, 2, 3]\n",
      "[\"0\", \"x\", \"1\", \"4\", \"x\"]Any[2, 5, 0, 1, 4]\n",
      "[\"x\", \"2\", \"1\", \"2\", \"x\"]Any[1, 5, 2, 1, 2]\n",
      "[\"x\", \"4\", \"1\", \"0\", \"x\"]Any[1, 5, 4, 1, 0]\n",
      "[\"x\", \"5\", \"0\", \"0\", \"x\"]Any[1, 5, 5, 0, 0]\n",
      "[\"x\", \"0\", \"5\", \"0\", \"x\"]Any[1, 5, 0, 5, 0]\n",
      "[\"x\", \"2\", \"3\", \"x\", \"0\"]Any[1, 4, 2, 3, 0]\n",
      "[\"x\", \"0\", \"0\", \"5\", \"x\"]Any[1, 5, 0, 0, 5]\n",
      "[\"0\", \"0\", \"x\", \"5\", \"x\"]Any[3, 5, 0, 0, 5]\n",
      "[\"0\", \"x\", \"5\", \"0\", \"x\"]Any[2, 5, 0, 5, 0]\n",
      "[\"0\", \"x\", \"0\", \"5\", \"x\"]Any[2, 5, 0, 0, 5]\n",
      "[\"x\", \"3\", \"1\", \"1\", \"x\"]Any[1, 5, 3, 1, 1]\n",
      "[\"x\", \"0\", \"3\", \"2\", \"x\"]Any[1, 5, 0, 3, 2]\n"
     ]
    }
   ],
   "source": [
    "L = 5\n",
    "BFLabels = BoseFermiLabels(L, [0,L,0])\n",
    "for (x, n) in BFLabels\n",
    "    println(ShowLabel(x), x)\n",
    "end"
   ]
  },
  {
   "cell_type": "code",
   "execution_count": 7,
   "id": "e874d8f5-33a8-4b3b-8e96-f83e7f3045c3",
   "metadata": {
    "scrolled": true
   },
   "outputs": [
    {
     "name": "stdout",
     "output_type": "stream",
     "text": [
      "[\"x\", \"1\", \"1\", \"3\", \"x\"]Any[1, 5, 1, 1, 3]21\n",
      "[\"x\", \"4\", \"1\", \"x\", \"0\"]Any[1, 4, 4, 1, 0]3\n",
      "[\"x\", \"5\", \"0\", \"x\", \"0\"]Any[1, 4, 5, 0, 0]2\n",
      "[\"x\", \"0\", \"5\", \"x\", \"0\"]Any[1, 4, 0, 5, 0]7\n",
      "[\"x\", \"1\", \"3\", \"1\", \"x\"]Any[1, 5, 1, 3, 1]19\n",
      "[\"x\", \"3\", \"2\", \"0\", \"x\"]Any[1, 5, 3, 2, 0]11\n",
      "[\"x\", \"1\", \"4\", \"0\", \"x\"]Any[1, 5, 1, 4, 0]18\n",
      "[\"0\", \"x\", \"5\", \"x\", \"0\"]Any[2, 4, 5, 0, 0]29\n",
      "[\"x\", \"1\", \"0\", \"4\", \"x\"]Any[1, 5, 1, 0, 4]22\n",
      "[\"0\", \"x\", \"3\", \"2\", \"x\"]Any[2, 5, 3, 2, 0]32\n",
      "[\"x\", \"2\", \"0\", \"3\", \"x\"]Any[1, 5, 2, 0, 3]17\n",
      "[\"0\", \"x\", \"1\", \"4\", \"x\"]Any[2, 5, 1, 4, 0]34\n",
      "[\"x\", \"2\", \"2\", \"1\", \"x\"]Any[1, 5, 2, 2, 1]15\n",
      "[\"x\", \"3\", \"0\", \"2\", \"x\"]Any[1, 5, 3, 0, 2]13\n",
      "[\"x\", \"0\", \"4\", \"1\", \"x\"]Any[1, 5, 0, 4, 1]24\n",
      "[\"x\", \"2\", \"3\", \"0\", \"x\"]Any[1, 5, 2, 3, 0]14\n",
      "[\"x\", \"3\", \"2\", \"x\", \"0\"]Any[1, 4, 3, 2, 0]4\n",
      "[\"x\", \"1\", \"4\", \"x\", \"0\"]Any[1, 4, 1, 4, 0]6\n",
      "[\"x\", \"5\", \"x\", \"0\", \"0\"]Any[1, 3, 5, 0, 0]1\n",
      "[\"x\", \"0\", \"2\", \"3\", \"x\"]Any[1, 5, 0, 2, 3]26\n",
      "[\"0\", \"x\", \"2\", \"3\", \"x\"]Any[2, 5, 2, 3, 0]33\n",
      "[\"x\", \"1\", \"2\", \"2\", \"x\"]Any[1, 5, 1, 2, 2]20\n",
      "[\"x\", \"4\", \"0\", \"1\", \"x\"]Any[1, 5, 4, 0, 1]10\n",
      "[\"x\", \"0\", \"1\", \"4\", \"x\"]Any[1, 5, 0, 1, 4]27\n",
      "[\"x\", \"2\", \"1\", \"2\", \"x\"]Any[1, 5, 2, 1, 2]16\n",
      "[\"x\", \"4\", \"1\", \"0\", \"x\"]Any[1, 5, 4, 1, 0]9\n",
      "[\"x\", \"5\", \"0\", \"0\", \"x\"]Any[1, 5, 5, 0, 0]8\n",
      "[\"x\", \"0\", \"5\", \"0\", \"x\"]Any[1, 5, 0, 5, 0]23\n",
      "[\"x\", \"2\", \"3\", \"x\", \"0\"]Any[1, 4, 2, 3, 0]5\n",
      "[\"x\", \"0\", \"0\", \"5\", \"x\"]Any[1, 5, 0, 0, 5]28\n",
      "[\"0\", \"0\", \"x\", \"5\", \"x\"]Any[3, 5, 5, 0, 0]36\n",
      "[\"0\", \"x\", \"4\", \"1\", \"x\"]Any[2, 5, 4, 1, 0]31\n",
      "[\"0\", \"x\", \"5\", \"0\", \"x\"]Any[2, 5, 5, 0, 0]30\n",
      "[\"0\", \"x\", \"0\", \"5\", \"x\"]Any[2, 5, 0, 5, 0]35\n",
      "[\"x\", \"3\", \"1\", \"1\", \"x\"]Any[1, 5, 3, 1, 1]12\n",
      "[\"x\", \"0\", \"3\", \"2\", \"x\"]Any[1, 5, 0, 3, 2]25\n"
     ]
    }
   ],
   "source": [
    "L = 5\n",
    "BFLabels = BoseFermiLabels(L, [L,0], :CO)\n",
    "for (x, n) in BFLabels\n",
    "    println(ShowLabel(x, :CO), x,n)\n",
    "end"
   ]
  },
  {
   "cell_type": "code",
   "execution_count": 8,
   "id": "2a44798c-c6eb-4a61-9006-0a1bae8b0072",
   "metadata": {},
   "outputs": [
    {
     "data": {
      "text/plain": [
       "BoseFermiHamiltonian (generic function with 2 methods)"
      ]
     },
     "execution_count": 8,
     "metadata": {},
     "output_type": "execute_result"
    }
   ],
   "source": [
    "function AddTerm!(X, Y, V, x, y, v)\n",
    "    push!(X, x)\n",
    "    push!(Y, y)\n",
    "    push!(V, v)\n",
    "end\n",
    "\n",
    "function BoseFermiHamiltonian(BFLabels, UBB, BC=:OO)\n",
    "    \n",
    "    X = Vector{Float64}()\n",
    "    Y = Vector{Float64}()\n",
    "    V = Vector{Float64}()\n",
    "\n",
    "    for (state, x) in BFLabels\n",
    "        L = length(state)\n",
    "        ii = state[1]\n",
    "        jj = state[2]\n",
    "\n",
    "        # Bosonic hopping\n",
    "        if BC == :OO\n",
    "            n_limit = [2,ii+1,jj,L]\n",
    "        elseif BC == :CO\n",
    "            n_limit = [2,jj-ii+1,L]\n",
    "        end\n",
    "        for m in 1:length(n_limit)-1\n",
    "            for n in n_limit[m]+1:n_limit[m+1]-1\n",
    "                new_state = copy(state)\n",
    "                new_state[n] -= 1\n",
    "                new_state[n+1] += 1\n",
    "                y = get(BFLabels, new_state, x)\n",
    "                AddTerm!(X, Y, V, x, y, -√(state[n]*new_state[n+1]))\n",
    "\n",
    "                new_state = copy(state)\n",
    "                new_state[n+1] -= 1\n",
    "                new_state[n] += 1\n",
    "                y = get(BFLabels, new_state, x)\n",
    "                AddTerm!(X, Y, V, x, y, -√(state[n+1]*new_state[n]))\n",
    "            end\n",
    "        end\n",
    "\n",
    "        # Boson interaction\n",
    "        y = x\n",
    "        AddTerm!(X, Y, V, x, y, UBB*sum([n*(n-1)/2 for n in state[3:end]]))\n",
    "        \n",
    "        # Fermionic hopping\n",
    "        if ii ≠ 1 && state[ii+1] == 0\n",
    "            new_state = copy(state)\n",
    "            new_state[1] -= 1\n",
    "            y = get(BFLabels, new_state, x)\n",
    "            AddTerm!(X, Y, V, x, y, -1.)\n",
    "        end\n",
    "        if  jj-ii ≠ 1 && state[ii+2] == 0\n",
    "            new_state = copy(state)\n",
    "            new_state[1] += 1\n",
    "            y = get(BFLabels, new_state, x)\n",
    "            AddTerm!(X, Y, V, x, y, -1.)\n",
    "        end\n",
    "        if jj-ii ≠ 1 && state[jj] == 0\n",
    "            new_state = copy(state)\n",
    "            new_state[jj] -= 1\n",
    "            y = get(BFLabels, new_state, x)\n",
    "            AddTerm!(X, Y, V, x, y, -1.)\n",
    "        end\n",
    "        if jj ≠ L && state[jj+1] == 0 \n",
    "            new_state = copy(state)\n",
    "            new_state[jj] += 1\n",
    "            y = get(BFLabels, new_state, x)\n",
    "            AddTerm!(X, Y, V, x, y, -1.)\n",
    "        end\n",
    "    end\n",
    "    \n",
    "    H = sparse(X, Y, V)\n",
    "    return Symmetric(H)\n",
    "end"
   ]
  },
  {
   "cell_type": "code",
   "execution_count": 9,
   "id": "53c9a131-f5b1-4119-986c-61037eaa6cd3",
   "metadata": {},
   "outputs": [
    {
     "data": {
      "text/plain": [
       "ShowLabel (generic function with 2 methods)"
      ]
     },
     "execution_count": 9,
     "metadata": {},
     "output_type": "execute_result"
    }
   ],
   "source": [
    "function ShowLabel(BFLabel, BC=:OO)\n",
    "    L = length(BFLabel)\n",
    "    configuration = [\"o\" for n in 1:L]\n",
    "    if BC == :OO\n",
    "        ii = BFLabel[1]\n",
    "        jj = BFLabel[2]\n",
    "        for n in 1:ii-1\n",
    "            configuration[n] = string(BFLabel[n+2])\n",
    "        end\n",
    "        configuration[ii] = \"x\"\n",
    "        for n in ii+1:jj-1\n",
    "            configuration[n] = string(BFLabel[n+1])\n",
    "        end\n",
    "        configuration[jj] = \"x\"\n",
    "        for n in jj+1:L\n",
    "            configuration[n] = string(BFLabel[n])\n",
    "        end\n",
    "        return configuration\n",
    "    elseif BC == :CO\n",
    "        ii = BFLabel[1]\n",
    "        jj = BFLabel[2]\n",
    "        configuration[ii] = \"x\"\n",
    "        for n in 1:jj-ii-1\n",
    "            configuration[n+ii] = string(BFLabel[n+2])\n",
    "        end\n",
    "        configuration[jj] = \"x\"\n",
    "        for n in jj-ii+1:L-ii\n",
    "            configuration[n+ii] = string(BFLabel[n+1])\n",
    "        end\n",
    "        for n in L-ii+1:L-1\n",
    "            configuration[n+ii-L] = string(BFLabel[n+1])\n",
    "        end\n",
    "        return configuration\n",
    "    end\n",
    "end "
   ]
  },
  {
   "cell_type": "code",
   "execution_count": 10,
   "id": "9a47c2ce-be7d-419e-94fa-050721636799",
   "metadata": {},
   "outputs": [
    {
     "data": {
      "text/plain": [
       "GetDensities (generic function with 2 methods)"
      ]
     },
     "execution_count": 10,
     "metadata": {},
     "output_type": "execute_result"
    }
   ],
   "source": [
    "function GetDensities(BFLabels, ψ, BC=:OO)\n",
    "    nᵇ = zeros(L)\n",
    "    nᶠ = zeros(L)\n",
    "    for (state, x) in BFLabels\n",
    "\n",
    "        L = length(state)\n",
    "        ii = state[1]\n",
    "        jj = state[2]\n",
    "\n",
    "        nᶠ[ii] += ψ[x]^2\n",
    "        nᶠ[jj] += ψ[x]^2\n",
    "\n",
    "        nᵇ_x = [0 for n in 1:L]\n",
    "        \n",
    "        if BC == :OO\n",
    "            for n in 1:ii-1\n",
    "                nᵇ_x[n] = state[n+2]\n",
    "            end\n",
    "            for n in ii+1:jj-1\n",
    "                nᵇ_x[n] = state[n+1]\n",
    "            end\n",
    "            for n in jj+1:L\n",
    "                nᵇ_x[n] = state[n]\n",
    "            end\n",
    "        elseif BC == :CO\n",
    "            for n in 1:jj-ii-1\n",
    "                nᵇ_x[n+ii] = state[n+2]\n",
    "            end\n",
    "            for n in jj-ii+1:L-ii\n",
    "                nᵇ_x[n+ii] = state[n+1]\n",
    "            end\n",
    "            for n in L-ii+1:L-1\n",
    "                nᵇ_x[n+ii-L] = state[n+1]\n",
    "            end\n",
    "        end\n",
    "        nᵇ += nᵇ_x*ψ[x]^2\n",
    "    end\n",
    "    return nᶠ, nᵇ\n",
    "end"
   ]
  },
  {
   "cell_type": "code",
   "execution_count": 46,
   "id": "aed613e1-ffe7-4b3f-b8d5-69c72735eb28",
   "metadata": {},
   "outputs": [
    {
     "data": {
      "text/plain": [
       "\u001b[32mConverged\u001b[39m: 5 of 5 eigenvalues in 120 matrix-vector products"
      ]
     },
     "execution_count": 46,
     "metadata": {},
     "output_type": "execute_result"
    }
   ],
   "source": [
    "L = 10\n",
    "N_list = [L÷2,0,L÷2]\n",
    "UBB=1\n",
    "M=5\n",
    "tol=1e-8\n",
    "\n",
    "BFLabels = BoseFermiLabels(L, N_list, :OO)\n",
    "H = BoseFermiHamiltonian(BFLabels, UBB, :OO)\n",
    "\n",
    "decomp, history = partialschur(H, nev=M, tol=tol, which=SR())\n",
    "history"
   ]
  },
  {
   "cell_type": "code",
   "execution_count": 47,
   "id": "8618815c-adc0-4079-aac1-f76d26c1116b",
   "metadata": {},
   "outputs": [
    {
     "data": {
      "image/png": "[encoded data removed]",
      "text/plain": [
       "Figure(PyObject <Figure size 640x480 with 2 Axes>)"
      ]
     },
     "metadata": {},
     "output_type": "display_data"
    },
    {
     "data": {
      "text/plain": [
       "1-element Vector{PyCall.PyObject}:\n",
       " PyObject <matplotlib.lines.Line2D object at 0x7f099280fb10>"
      ]
     },
     "execution_count": 47,
     "metadata": {},
     "output_type": "execute_result"
    }
   ],
   "source": [
    "ψ₀ = decomp.Q[:,1]\n",
    "nᶠ, nᵇ = GetDensities(BFLabels, ψ₀)\n",
    "fig, axs = subplots(1, 2)\n",
    "axs[1].plot(1:L, nᶠ, marker=\"o\")\n",
    "axs[2].plot(1:L, nᵇ, marker=\"o\")"
   ]
  },
  {
   "cell_type": "code",
   "execution_count": 48,
   "id": "afd49086-5694-4bb1-9acd-7b576c84660b",
   "metadata": {},
   "outputs": [
    {
     "data": {
      "text/plain": [
       "PartialSchur decomposition (Float64) of dimension 5\n",
       "eigenvalues:\n",
       "5-element Vector{ComplexF64}:\n",
       " 10.901044088582964 + 0.0im\n",
       " 10.901369818855736 + 0.0im\n",
       "  10.90144649412885 + 0.0im\n",
       " 10.901732028409079 + 0.0im\n",
       "  10.91159571782674 + 0.0im"
      ]
     },
     "execution_count": 48,
     "metadata": {},
     "output_type": "execute_result"
    }
   ],
   "source": [
    "L = 10\n",
    "N_list = [0,L]\n",
    "UBB=10\n",
    "\n",
    "BFLabels = BoseFermiLabels(L, N_list, :CO)\n",
    "H = BoseFermiHamiltonian(BFLabels, UBB, :CO)\n",
    "\n",
    "decomp, history = partialschur(H, nev=M, tol=tol, which=SR())\n",
    "history\n",
    "decomp"
   ]
  },
  {
   "cell_type": "code",
   "execution_count": 49,
   "id": "5ae3853e-85d6-494d-b1e6-7119c0bee04b",
   "metadata": {},
   "outputs": [
    {
     "data": {
      "image/png": "[encoded data removed]",
      "text/plain": [
       "Figure(PyObject <Figure size 640x480 with 2 Axes>)"
      ]
     },
     "metadata": {},
     "output_type": "display_data"
    },
    {
     "data": {
      "text/plain": [
       "1-element Vector{PyCall.PyObject}:\n",
       " PyObject <matplotlib.lines.Line2D object at 0x7f09926ea1d0>"
      ]
     },
     "execution_count": 49,
     "metadata": {},
     "output_type": "execute_result"
    }
   ],
   "source": [
    "ψ₀ = decomp.Q[:,1]\n",
    "nᶠ, nᵇ = GetDensities(BFLabels, ψ₀, :CO)\n",
    "fig, axs = subplots(1, 2)\n",
    "axs[1].plot(1:L, nᶠ, marker=\"o\")\n",
    "axs[2].plot(1:L, nᵇ, marker=\"o\")"
   ]
  },
  {
   "cell_type": "code",
   "execution_count": null,
   "id": "b7c2767e-55bd-4b70-ad8a-eec12d798c3a",
   "metadata": {},
   "outputs": [],
   "source": []
  }
 ],
 "metadata": {
  "kernelspec": {
   "display_name": "Julia 1.9.2",
   "language": "julia",
   "name": "julia-1.9"
  },
  "language_info": {
   "file_extension": ".jl",
   "mimetype": "application/julia",
   "name": "julia",
   "version": "1.9.2"
  }
 },
 "nbformat": 4,
 "nbformat_minor": 5
}
