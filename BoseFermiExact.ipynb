{
 "cells": [
  {
   "cell_type": "code",
   "execution_count": 1,
   "id": "3ec4de04-be3a-4023-9b0e-6e80ee198718",
   "metadata": {},
   "outputs": [],
   "source": [
    "using LinearAlgebra\n",
    "using SparseArrays\n",
    "using ArnoldiMethod\n",
    "using PyPlot\n",
    "\n",
    "using Combinatorics\n",
    "using BenchmarkTools"
   ]
  },
  {
   "cell_type": "code",
   "execution_count": 7,
   "id": "153f60f3-97b7-4267-864d-f365f7e28642",
   "metadata": {},
   "outputs": [
    {
     "data": {
      "text/plain": [
       "3×3 Matrix{Int64}:\n",
       " 1  4  1\n",
       " 2  5  2\n",
       " 3  6  3"
      ]
     },
     "execution_count": 7,
     "metadata": {},
     "output_type": "execute_result"
    }
   ],
   "source": [
    "A = [1 2 3]\n",
    "B = [4 5 6]\n",
    "\n",
    "hcat(A',B',A')"
   ]
  },
  {
   "cell_type": "code",
   "execution_count": 32,
   "id": "02915355-4bd2-4c66-a519-0435e1ddb639",
   "metadata": {},
   "outputs": [
    {
     "data": {
      "text/plain": [
       "3-element Vector{Tuple{Int64, Int64, Float64}}:\n",
       " (5, 0, 0.0)\n",
       " (4, 1, 0.0)\n",
       " (4, 0, 1.0)"
      ]
     },
     "execution_count": 32,
     "metadata": {},
     "output_type": "execute_result"
    }
   ],
   "source": [
    "A = [5 0 0; 4 1 0 ; 4 0 1 ]\n",
    "x = eachrow(A)\n",
    "\n",
    "B = Vector{Tuple{Int64, Int64, Float64}}(tuple.(eachcol(A)...))"
   ]
  },
  {
   "cell_type": "markdown",
   "id": "5c650905-7589-474e-a8af-3728546264c0",
   "metadata": {
    "jp-MarkdownHeadingCollapsed": true
   },
   "source": [
    "# Exact diagonalization Bose-Fermi Hubbard"
   ]
  },
  {
   "cell_type": "markdown",
   "id": "5a9885cb-30ab-4c6b-9c64-aadf42a1ad73",
   "metadata": {},
   "source": [
    "Permutations of ones and zeros:\n",
    "\n",
    "3.709 ms (86200 allocations: 4.44 MiB)\n",
    "\n",
    "Bose basis restricted to maximum one particle per site:\n",
    "\n",
    "34.867 μs (936 allocations: 246.73 KiB)"
   ]
  },
  {
   "cell_type": "code",
   "execution_count": 2,
   "id": "53511615-99d7-4c7b-862a-ae31885a4a80",
   "metadata": {},
   "outputs": [
    {
     "data": {
      "text/plain": [
       "BasisTransformation (generic function with 1 method)"
      ]
     },
     "execution_count": 2,
     "metadata": {},
     "output_type": "execute_result"
    }
   ],
   "source": [
    "BoseBasisSize(L::Int, N::Int)  = binomial(L+N-1, N)\n",
    "FermiBasisSize(L::Int, N::Int) = binomial(L, N)\n",
    "\n",
    "function MultipleOccupancy(x::Vector{Int}, N_max::Int)::Bool\n",
    "    for n in x\n",
    "        if n > N_max\n",
    "            return false\n",
    "        end\n",
    "    end\n",
    "    return true\n",
    "end\n",
    "\n",
    "function GenerateBasis(L::Int, N::Int, N_max::Int = N)::Tuple{Vector{Vector{Int64}}, BitVector}\n",
    "    Basis = Array{Vector{Int}}(undef, BoseBasisSize(L, N))\n",
    "    \n",
    "    n = 1\n",
    "    x = zeros(Int, L)\n",
    "    x[1] = N\n",
    "    Basis[n] = copy(x)\n",
    "    \n",
    "    while x[L] ≠ N\n",
    "        \n",
    "        n += 1\n",
    "        x[L] = N\n",
    "        \n",
    "        kk = L-1\n",
    "        while x[kk] == 0\n",
    "            kk -= 1\n",
    "        end\n",
    "        \n",
    "        x[kk] -= 1\n",
    "        x[kk+1] = N-sum(x[1:kk])\n",
    "        x[kk+2:L] .= 0\n",
    "        Basis[n] = copy(x)\n",
    "    end\n",
    "\n",
    "    if N_max < N\n",
    "        T = MultipleOccupancy.(Basis, N_max)\n",
    "        filter!(x->MultipleOccupancy(x, N_max), Basis)\n",
    "        return Basis, T\n",
    "    else\n",
    "        T = MultipleOccupancy.(Basis, N)\n",
    "        return Basis, T\n",
    "    end\n",
    "end\n",
    "\n",
    "function BasisTransformation(x::Vector{TV}, T::BitVector)::Vector{TV} where TV\n",
    "    y = Array{TV}(undef, length(T))\n",
    "    jj = 0\n",
    "    for ii in eachindex(T)\n",
    "        if T[ii]\n",
    "            jj += 1\n",
    "            y[ii] = x[jj]\n",
    "        else\n",
    "            y[ii] = 0\n",
    "        end\n",
    "    end\n",
    "    return y\n",
    "end"
   ]
  },
  {
   "cell_type": "code",
   "execution_count": 3,
   "id": "0bf976d2-9a2a-4e24-819f-3a3d27ebcc8a",
   "metadata": {},
   "outputs": [
    {
     "data": {
      "text/plain": [
       "GenerateBFBasis (generic function with 1 method)"
      ]
     },
     "execution_count": 3,
     "metadata": {},
     "output_type": "execute_result"
    }
   ],
   "source": [
    "function GenerateBFBasis(L::Int, NB::Int, NF::Int; NB_max::Int = NB, restricted::Bool = false)::Tuple{Vector{Vector{Int64}}, BitVector}\n",
    "    BoseBasis, TB = GenerateBasis(L, NB, NB_max)\n",
    "    FermiBasis, TF = GenerateBasis(L, NF, 1)\n",
    "    BoseFermiBasis = Array{Vector{Int}}(undef, length(BoseBasis)*length(FermiBasis))\n",
    "\n",
    "    n = 0\n",
    "    for xB in BoseBasis\n",
    "        for xF in FermiBasis\n",
    "            n += 1\n",
    "            BoseFermiBasis[n] = (NB_max+1)*xF+xB  # nF*(NBmax+1)+nB is a one-to-one mapping from (nF,nB) to integers\n",
    "        end\n",
    "    end\n",
    "\n",
    "    if restricted\n",
    "        TBF = MultipleOccupancy.(BoseFermiBasis, NB_max+1)\n",
    "        filter!(x->MultipleOccupancy(x, NB_max+1), BoseFermiBasis)\n",
    "        return BoseFermiBasis, TBF\n",
    "    else\n",
    "        TBF = MultipleOccupancy.(BoseFermiBasis, 2*NB_max+1)\n",
    "        return BoseFermiBasis, TBF\n",
    "    end\n",
    "end"
   ]
  },
  {
   "cell_type": "code",
   "execution_count": 4,
   "id": "c35eb8b7-d762-44a5-853a-e7f7cac5b515",
   "metadata": {},
   "outputs": [
    {
     "data": {
      "text/plain": [
       "AddBoseFermiInteraction! (generic function with 1 method)"
      ]
     },
     "execution_count": 4,
     "metadata": {},
     "output_type": "execute_result"
    }
   ],
   "source": [
    "function GenerateTag(x::Vector{Int})::Float64\n",
    "    T = 0\n",
    "    for ii in eachindex(x)\n",
    "        T += log((100*ii+3))*x[ii]\n",
    "    end\n",
    "    return T\n",
    "end\n",
    "\n",
    "function AddTerm!(X::Vector{Int}, Y::Vector{Int}, V::Vector{Float64}, x::Int, y::Int, v::Float64)\n",
    "    push!(X, x)\n",
    "    push!(Y, y)\n",
    "    push!(V, v)\n",
    "end\n",
    "\n",
    "function AddBosonHopping!(X::Vector{Int}, Y::Vector{Int}, V::Vector{Float64}, n::Int, x::Vector{Int}, ii::Int, jj::Int; Tags::Vector{Float64}, t::Float64, NB_max::Int)\n",
    "    y = copy(x)\n",
    "    y[ii] -= 1\n",
    "    y[jj] += 1\n",
    "    Tag = GenerateTag(y)\n",
    "    m_list = findall(T -> T == Tag, Tags)\n",
    "    for m in m_list\n",
    "        AddTerm!(X, Y, V, n, m, -t*√((x[ii]%(NB_max+1))*(y[jj]%(NB_max+1))))\n",
    "    end\n",
    "end\n",
    "\n",
    "function AddFermionHopping!(X::Vector{Int}, Y::Vector{Int}, V::Vector{Float64}, n::Int, x::Vector{Int}, ii::Int, jj::Int; Tags::Vector{Float64}, t::Float64, NB_max::Int)\n",
    "    y = copy(x)\n",
    "    y[ii] -= NB_max+1\n",
    "    y[jj] += NB_max+1\n",
    "    Tag = GenerateTag(y)\n",
    "    m_list = findall(T -> T == Tag, Tags)\n",
    "    for m in m_list\n",
    "        AddTerm!(X, Y, V, n, m, -t)\n",
    "    end\n",
    "end\n",
    "\n",
    "function AddBosonInteraction!(X::Vector{Int}, Y::Vector{Int}, V::Vector{Float64}, n::Int, x::Vector{Int}, ii::Int; UBB::Float64, NB_max::Int)\n",
    "    AddTerm!(X, Y, V, n, n, UBB*(x[ii]%(NB_max+1))*((x[ii]%(NB_max+1)-1)))\n",
    "end\n",
    "\n",
    "function AddBoseFermiInteraction!(X::Vector{Int}, Y::Vector{Int}, V::Vector{Float64}, n::Int, x::Vector{Int}, ii::Int; UBF::Float64, NB_max::Int)\n",
    "    AddTerm!(X, Y, V, n, n, UBF*(x[ii]%(NB_max+1))*(x[ii]÷(NB_max+1)))\n",
    "end"
   ]
  },
  {
   "cell_type": "code",
   "execution_count": 28,
   "id": "7f539a86-992c-4bd3-897e-021203d412e8",
   "metadata": {},
   "outputs": [
    {
     "data": {
      "text/plain": [
       "10-element Vector{Tuple{Int64, Int64, Float64}}:\n",
       " (1, 2, 0.0)\n",
       " (1, 2, 0.0)\n",
       " (1, 2, 0.0)\n",
       " (1, 2, 0.0)\n",
       " (1, 2, 0.0)\n",
       " (1, 2, 0.0)\n",
       " (1, 2, 0.0)\n",
       " (1, 2, 0.0)\n",
       " (1, 2, 0.0)\n",
       " (1, 2, 0.0)"
      ]
     },
     "execution_count": 28,
     "metadata": {},
     "output_type": "execute_result"
    }
   ],
   "source": [
    "A = (1,2,0.0)\n",
    "X = fill(A, 10)\n",
    "X"
   ]
  },
  {
   "cell_type": "code",
   "execution_count": 5,
   "id": "7d0d2062-9995-4539-a543-40da056b527a",
   "metadata": {},
   "outputs": [
    {
     "data": {
      "text/plain": [
       "BoseFermiHubbard (generic function with 3 methods)"
      ]
     },
     "execution_count": 5,
     "metadata": {},
     "output_type": "execute_result"
    }
   ],
   "source": [
    "function BoseFermiHubbard(Basis::Vector{Vector{Int64}}, t::Float64, UBB::Float64, UBF::Float64, NB_max::Int, pB::Bool=false, pF::Bool=false)::SparseMatrixCSC{Float64, Int64}\n",
    "    D = length(Basis)\n",
    "    Tags = GenerateTag.(Basis)\n",
    "    \n",
    "    X = Vector{Int}()\n",
    "    Y = Vector{Int}()\n",
    "    V = Vector{Float64}()\n",
    "\n",
    "    for (n, x) in enumerate(Basis)\n",
    "        L = length(x)\n",
    "\n",
    "        for ii in 1:L-1\n",
    "            AddBosonHopping!(X, Y, V, n, x, ii, ii+1; Tags, t, NB_max)\n",
    "            AddBosonHopping!(X, Y, V, n, x, ii+1, ii; Tags, t, NB_max)\n",
    "            \n",
    "            AddFermionHopping!(X, Y, V, n, x, ii, ii+1; Tags, t, NB_max)\n",
    "            AddFermionHopping!(X, Y, V, n, x, ii+1, ii; Tags, t, NB_max)\n",
    "        end\n",
    "        if pB\n",
    "            AddBosonHopping!(X, Y, V, n, x, 1, L; Tags, t, NB_max)\n",
    "            AddBosonHopping!(X, Y, V, n, x, L, 1; Tags, t, NB_max)\n",
    "        end\n",
    "        if pF\n",
    "            AddFermionHopping!(X, Y, V, n, x, 1, L; Tags, t, NB_max)\n",
    "            AddFermionHopping!(X, Y, V, n, x, L, 1; Tags, t, NB_max)\n",
    "        end\n",
    "\n",
    "        for ii in 1:L\n",
    "            AddBosonInteraction!(X, Y, V, n, x, ii; UBB, NB_max)\n",
    "            AddBoseFermiInteraction!(X, Y, V, n, x, ii; UBF, NB_max)\n",
    "        end\n",
    "    end\n",
    "\n",
    "    H = sparse(X, Y, V, D, D)\n",
    "    return H\n",
    "end"
   ]
  },
  {
   "cell_type": "code",
   "execution_count": 6,
   "id": "d2352238-951b-46b4-99fa-4629cd2d4554",
   "metadata": {},
   "outputs": [
    {
     "data": {
      "text/plain": [
       "Diagonalize (generic function with 1 method)"
      ]
     },
     "execution_count": 6,
     "metadata": {},
     "output_type": "execute_result"
    }
   ],
   "source": [
    "function Diagonalize(HBF::SparseMatrixCSC{Float64, Int64}; M::Int=1, tol::Float64=1e-8, mode=:Sparse)::Tuple{Vector{Float64}, Matrix{Float64}}\n",
    "    if mode == :Sparse\n",
    "        decomp, history = partialschur(HBF, nev=M, tol=tol, which=SR())\n",
    "        E = Real.(decomp.eigenvalues)\n",
    "        Ψ = Matrix(decomp.Q)\n",
    "        return E, Ψ\n",
    "    elseif mode == :Full\n",
    "        full_HBF = Symmetric(Matrix(HBF))\n",
    "        E, Ψ = eigen(full_HBF)\n",
    "        return E, Ψ\n",
    "    end\n",
    "end"
   ]
  },
  {
   "cell_type": "code",
   "execution_count": 7,
   "id": "4cf565bc-b5ef-4348-b9ce-ece288b31673",
   "metadata": {},
   "outputs": [
    {
     "data": {
      "text/plain": [
       "GetDensities (generic function with 1 method)"
      ]
     },
     "execution_count": 7,
     "metadata": {},
     "output_type": "execute_result"
    }
   ],
   "source": [
    "function GetDensities(Basis::Vector{Vector{Int64}}, ψ::Vector{T}, NB_max::Int)::Tuple{Vector{Float64}, Vector{Float64}} where T\n",
    "    L = length(Basis[1])\n",
    "    nᵇ = zeros(Float64, L)\n",
    "    nᶠ = zeros(Float64, L)\n",
    "    for (ii, x) in enumerate(Basis)\n",
    "        nᵇ += @.(x%(NB_max+1))*ψ[ii]^2\n",
    "        nᶠ += @.(x÷(NB_max+1))*ψ[ii]^2\n",
    "    end\n",
    "    return nᵇ, nᶠ\n",
    "end"
   ]
  },
  {
   "cell_type": "markdown",
   "id": "c5826e4d-e143-4a2a-a516-653b2ab9b5c8",
   "metadata": {
    "jp-MarkdownHeadingCollapsed": true
   },
   "source": [
    "# Test"
   ]
  },
  {
   "cell_type": "code",
   "execution_count": 8,
   "id": "803d72cc-d08d-4967-869a-4d1aeebca126",
   "metadata": {},
   "outputs": [
    {
     "data": {
      "text/plain": [
       "36036×36036 SparseMatrixCSC{Float64, Int64} with 267792 stored entries:\n",
       "⎡⢿⣷⡦⣄⡀⠀⠀⠀⠀⠀⠀⠀⠀⠀⠀⠀⠀⠀⠁⠀⠀⠀⠀⠀⠀⠀⠀⠀⠀⠀⠀⠀⠀⠀⠀⠀⠀⠀⠀⠈⎤\n",
       "⎢⠈⢯⣻⣾⣏⠳⣤⣀⠀⠀⠀⠀⠀⠀⠀⠀⠀⠀⠀⠀⠀⠀⠀⠀⠀⠀⠀⠀⠀⠀⠀⠀⠀⠀⠀⠀⠀⠀⠀⠀⎥\n",
       "⎢⠀⠈⢯⡙⠿⣧⡈⢻⡙⠦⣄⠀⠀⠀⠀⠀⠀⠀⠀⠀⠀⠀⠀⠀⠀⠀⠀⠀⠀⠀⠀⠀⠀⠀⠀⠀⠀⠀⠀⠀⎥\n",
       "⎢⠀⠀⠀⢻⣦⣈⠻⣦⣥⡀⠈⠻⣶⣄⡀⠀⠀⠀⠀⠀⠀⠀⠀⠀⠀⠀⠀⠀⠀⠀⠀⠀⠀⠀⠀⠀⠀⠀⠀⠀⎥\n",
       "⎢⠀⠀⠀⠀⠳⡌⠁⠻⢿⣷⡄⠀⠈⢧⠉⠳⢤⡀⠀⠀⠀⠀⠀⠀⠀⠀⠀⠀⠀⠀⠀⠀⠀⠀⠀⠀⠀⠀⠀⠀⎥\n",
       "⎢⠀⠀⠀⠀⠀⠙⣦⡀⠀⠉⠻⣦⡄⠈⠃⠀⠀⠉⠳⣦⣤⣀⡀⠀⠀⠀⠀⠀⠀⠀⠀⠀⠀⠀⠀⠀⠀⠀⠀⠀⎥\n",
       "⎢⠀⠀⠀⠀⠀⠀⠘⢿⠦⣄⡀⠉⢿⣷⡦⢄⡀⠀⠀⠀⠉⠓⠯⣝⡒⠦⢤⣀⡀⠀⠀⠀⠀⠀⠀⠀⠀⠀⠀⠀⎥\n",
       "⎢⠀⠀⠀⠀⠀⠀⠀⠈⢧⡀⠉⠀⠈⢏⠻⣦⣁⡀⠀⠀⠀⠀⠀⠀⠉⠳⣄⠀⠉⠙⠒⠦⢤⣀⠀⠀⠀⠀⠀⠀⎥\n",
       "⎢⠀⠀⠀⠀⠀⠀⠀⠀⠀⠳⡄⠀⠀⠈⠁⠸⡿⣯⡄⠀⠀⠀⠀⠀⠀⠀⠈⠳⣄⠀⠀⠀⠀⠈⠉⠓⠲⢤⣀⠀⎥\n",
       "⎢⠁⠀⠀⠀⠀⠀⠀⠀⠀⠀⠹⣦⠀⠀⠀⠀⠀⠉⢻⣶⣤⠀⠀⠀⠀⠀⠀⠀⠈⠁⠀⠀⠀⠀⠀⠀⠀⠀⠈⠉⎥\n",
       "⎢⠀⠀⠀⠀⠀⠀⠀⠀⠀⠀⠀⢻⢧⠀⠀⠀⠀⠀⠀⠛⠿⣧⡳⡄⠀⠀⠀⠀⠀⠀⠀⠀⠀⠀⠀⠀⠀⠀⠀⠀⎥\n",
       "⎢⠀⠀⠀⠀⠀⠀⠀⠀⠀⠀⠀⠈⣏⢧⠀⠀⠀⠀⠀⠀⠙⠮⣿⣿⡌⠳⣄⠀⠀⠀⠀⠀⠀⠀⠀⠀⠀⠀⠀⠀⎥\n",
       "⎢⠀⠀⠀⠀⠀⠀⠀⠀⠀⠀⠀⠀⠸⡌⢧⡀⠀⠀⠀⠀⠀⠀⢦⡉⠻⣦⣘⠂⠀⢦⣀⠀⠀⠀⠀⠀⠀⠀⠀⠀⎥\n",
       "⎢⠀⠀⠀⠀⠀⠀⠀⠀⠀⠀⠀⠀⠀⢳⠀⠙⢦⡀⠀⠀⠀⠀⠀⠙⠲⠘⢿⣷⣆⠀⠈⠙⠲⣄⠀⠀⠀⠀⠀⠀⎥\n",
       "⎢⠀⠀⠀⠀⠀⠀⠀⠀⠀⠀⠀⠀⠀⠈⣇⠀⠀⠙⠆⠀⠀⠀⠀⠀⠠⣄⠈⠙⠻⣦⣀⠀⠀⠈⠳⠀⠀⠀⠀⠀⎥\n",
       "⎢⠀⠀⠀⠀⠀⠀⠀⠀⠀⠀⠀⠀⠀⠀⠸⡄⠀⠀⠀⠀⠀⠀⠀⠀⠀⠘⣆⠀⠀⠘⢿⣷⣤⡀⠀⠀⠀⠀⠀⠀⎥\n",
       "⎢⠀⠀⠀⠀⠀⠀⠀⠀⠀⠀⠀⠀⠀⠀⠀⢳⡀⠀⠀⠀⠀⠀⠀⠀⠀⠀⠘⢦⡀⠀⠀⠻⣿⣿⣐⠦⣄⠀⠀⠀⎥\n",
       "⎢⠀⠀⠀⠀⠀⠀⠀⠀⠀⠀⠀⠀⠀⠀⠀⠀⢧⠀⠀⠀⠀⠀⠀⠀⠀⠀⠀⠀⠙⠂⠀⠀⠰⡜⠻⣦⡈⠓⠀⠀⎥\n",
       "⎢⠀⠀⠀⠀⠀⠀⠀⠀⠀⠀⠀⠀⠀⠀⠀⠀⠘⣆⠀⠀⠀⠀⠀⠀⠀⠀⠀⠀⠀⠀⠀⠀⠀⠙⢦⠈⢿⣷⣤⡀⎥\n",
       "⎣⡀⠀⠀⠀⠀⠀⠀⠀⠀⠀⠀⠀⠀⠀⠀⠀⠀⠘⡆⠀⠀⠀⠀⠀⠀⠀⠀⠀⠀⠀⠀⠀⠀⠀⠀⠀⠀⠻⠻⣦⎦"
      ]
     },
     "execution_count": 8,
     "metadata": {},
     "output_type": "execute_result"
    }
   ],
   "source": [
    "L = 8\n",
    "NB = L\n",
    "NF = 2\n",
    "\n",
    "t = 1.\n",
    "UBB = 1.\n",
    "UBF = 1.\n",
    "\n",
    "pB = true\n",
    "pF = false\n",
    "\n",
    "M = 2*L\n",
    "tol = 1e-8\n",
    "\n",
    "Basis, T = GenerateBFBasis(L, NB, NF; restricted=true)\n",
    "#print(length(Basis))\n",
    "HBF = BoseFermiHubbard(Basis, t, UBB, UBF, NB, pB, pF)\n",
    "#println(\"Hilbert Space: \", length(Basis))"
   ]
  },
  {
   "cell_type": "code",
   "execution_count": 9,
   "id": "d95d906d-9e5e-470a-ac8d-1d82bbe961f7",
   "metadata": {},
   "outputs": [
    {
     "data": {
      "text/plain": [
       "([-6.774705104093855, -6.753009018378824, -6.719228489652114, -6.677396662496792, -6.677351648550226, -6.633974448993164, -6.598090840386105, -6.589121997901528, -5.917092504900749, -5.8569416746992635, -5.772361550063242, -5.676415044872003, -5.674973920036934, -5.572265587588724, -5.468994825358788, -5.394730147751817], [7.477842228139825e-10 3.9081238057173175e-10 … -2.045498689010475e-9 1.2386797588567254e-9; 8.654453012731823e-9 2.7557205593712915e-9 … -2.011735704148303e-8 1.1924512132928977e-8; … ; 8.660149800842627e-9 -2.7650617607699934e-9 … -2.012447535613849e-8 -1.1938413486891343e-8; 7.501590632754322e-10 -4.037660870836286e-10 … -2.0357412992911565e-9 -1.2260936167393165e-9])"
      ]
     },
     "execution_count": 9,
     "metadata": {},
     "output_type": "execute_result"
    }
   ],
   "source": [
    "E, Ψ = Diagonalize(HBF; M=M, mode=:Sparse)"
   ]
  },
  {
   "cell_type": "code",
   "execution_count": 10,
   "id": "4ad018bc-1a70-4155-b5a8-1c35594c1ca8",
   "metadata": {},
   "outputs": [
    {
     "data": {
      "image/png": "[encoded data removed]",
      "text/plain": [
       "Figure(PyObject <Figure size 640x480 with 2 Axes>)"
      ]
     },
     "metadata": {},
     "output_type": "display_data"
    }
   ],
   "source": [
    "ψ₀ = Ψ[:,1]\n",
    "nᵇ, nᶠ = GetDensities(Basis, ψ₀, NB)\n",
    "fig, axs = subplots(1, 2)\n",
    "axs[1].plot(1:L, nᵇ, marker=\"o\")\n",
    "axs[2].plot(1:L, nᶠ, marker=\"o\")\n",
    "axs[1].set_xlim(0,L+1)\n",
    "axs[2].set_xlim(0,L+1)\n",
    "tight_layout()"
   ]
  },
  {
   "cell_type": "markdown",
   "id": "92ef3724-74b8-4873-ab8a-ff0262e6c25c",
   "metadata": {},
   "source": [
    "# Closed-open"
   ]
  },
  {
   "cell_type": "code",
   "execution_count": 9,
   "id": "f1f36c6e-caac-4b9f-bcf2-1b505336217c",
   "metadata": {},
   "outputs": [
    {
     "data": {
      "text/plain": [
       "21-element Vector{Float64}:\n",
       " 0.0\n",
       " 0.25\n",
       " 0.5\n",
       " 0.75\n",
       " 1.0\n",
       " 1.25\n",
       " 1.5\n",
       " 1.75\n",
       " 2.0\n",
       " 2.25\n",
       " 2.5\n",
       " 2.75\n",
       " 3.0\n",
       " 3.25\n",
       " 3.5\n",
       " 3.75\n",
       " 4.0\n",
       " 4.25\n",
       " 4.5\n",
       " 4.75\n",
       " 5.0"
      ]
     },
     "execution_count": 9,
     "metadata": {},
     "output_type": "execute_result"
    }
   ],
   "source": [
    "collect(LinRange(0,5,21))"
   ]
  },
  {
   "cell_type": "code",
   "execution_count": 111,
   "id": "88403cb2-f8df-4390-82ab-e70aef64a970",
   "metadata": {},
   "outputs": [
    {
     "name": "stdout",
     "output_type": "stream",
     "text": [
      "\n"
     ]
    }
   ],
   "source": [
    "L = 5\n",
    "NB = L\n",
    "NF = 2\n",
    "\n",
    "t = 1.\n",
    "UBB_list = collect(LinRange(0,5,20))\n",
    "UBF = 1.\n",
    "\n",
    "pB = true\n",
    "pF = false\n",
    "\n",
    "M = 2*L\n",
    "tol = 1e-8\n",
    "\n",
    "Basis, T = GenerateBFBasis(L, NB, NF; restricted=true)\n",
    "\n",
    "E_list = []\n",
    "nᵇ_list = []\n",
    "nᶠ_list = []\n",
    "for UBB in UBB_list\n",
    "    HBF = BoseFermiHubbard(Basis, t, UBB, UBF, NB, pB, pF)\n",
    "    E, Ψ = Diagonalize(HBF; M=M, mode=:Full)\n",
    "    nᵇ, nᶠ = GetDensities(Basis, Ψ[:,6], NB)\n",
    "    append!(E_list, [E])\n",
    "    append!(nᵇ_list, [nᵇ])\n",
    "    append!(nᶠ_list, [nᶠ])\n",
    "end\n",
    "\n",
    "E_list = reduce(vcat,transpose.(E_list))\n",
    "nᵇ_list = reduce(vcat,transpose.(nᵇ_list))\n",
    "nᶠ_list = reduce(vcat,transpose.(nᶠ_list))\n",
    "println()"
   ]
  },
  {
   "cell_type": "code",
   "execution_count": 114,
   "id": "bdaa578e-9016-4b8f-8e84-45eae3862124",
   "metadata": {},
   "outputs": [
    {
     "data": {
      "image/png": "[encoded data removed]",
      "text/plain": [
       "Figure(PyObject <Figure size 640x480 with 1 Axes>)"
      ]
     },
     "metadata": {},
     "output_type": "display_data"
    }
   ],
   "source": [
    "for n in 1:2*L\n",
    "    plot(UBB_list, E_list[:,n]-E_list[:,1], marker=\"o\")\n",
    "end"
   ]
  },
  {
   "cell_type": "code",
   "execution_count": 113,
   "id": "e9cc63c8-4b25-4ee2-a3d7-5e643bb702b6",
   "metadata": {},
   "outputs": [
    {
     "data": {
      "image/png": "[encoded data removed]",
      "text/plain": [
       "Figure(PyObject <Figure size 640x480 with 2 Axes>)"
      ]
     },
     "metadata": {},
     "output_type": "display_data"
    }
   ],
   "source": [
    "fig, axs = subplots(1, 2)\n",
    "\n",
    "cm = get_cmap(:jet)\n",
    "colorrange = collect(0:length(UBB_list)-1)./length(UBB_list)\n",
    "for ii in eachindex(UBB_list)\n",
    "    axs[1].plot(1:L, nᶠ_list[ii,:], marker=\"o\", color=cm(colorrange[ii]))\n",
    "    axs[2].plot(1:L, nᵇ_list[ii,:], marker=\"o\", color=cm(colorrange[ii]))\n",
    "end\n",
    "\n",
    "axs[1].set_xlim(0,L+1)\n",
    "axs[2].set_xlim(0,L+1)\n",
    "axs[1].set_title(\"Bosons\")\n",
    "axs[2].set_title(\"Fermions\")\n",
    "axs[1].set_ylabel(\"<n^F_j>\")\n",
    "axs[2].set_ylabel(\"<n^B_j>\")\n",
    "axs[1].set_xlabel(\"j\")\n",
    "axs[2].set_xlabel(\"j\")\n",
    "fig.suptitle(\"UBF=∞\")\n",
    "tight_layout()"
   ]
  },
  {
   "cell_type": "markdown",
   "id": "281aabc1-e3bf-40eb-8455-85ecb2fc1ea6",
   "metadata": {
    "jp-MarkdownHeadingCollapsed": true
   },
   "source": [
    "# Semi periodic"
   ]
  },
  {
   "cell_type": "code",
   "execution_count": 86,
   "id": "2ee331e7-7bfc-4d45-b42e-4354ef1f4ab6",
   "metadata": {},
   "outputs": [
    {
     "ename": "LoadError",
     "evalue": "UndefVarError: `BoseFermiLabels` not defined",
     "output_type": "error",
     "traceback": [
      "UndefVarError: `BoseFermiLabels` not defined",
      "",
      "Stacktrace:",
      " [1] top-level scope",
      "   @ In[86]:14"
     ]
    }
   ],
   "source": [
    "L = 6\n",
    "NB = L\n",
    "NF = 2\n",
    "t = 1\n",
    "UBB_list = collect(LinRange(0,5,50))\n",
    "UBF = 0\n",
    "pB = true\n",
    "pF = false\n",
    "\n",
    "M=3*L\n",
    "tol=1e-8\n",
    "\n",
    "\n",
    "BFLabels = BoseFermiLabels(L, NB, NF, true)\n",
    "println(\"Hilbert Space: \", length(BFLabels))\n",
    "\n",
    "E_list = []\n",
    "nᵇ_list = []\n",
    "nᶠ_list = []\n",
    "\n",
    "for UBB in UBB_list\n",
    "    HBF = BoseFermiHubbard(BFLabels, t, UBB, UBF, pB, pF)\n",
    "    decomp, history = partialschur(HBF, nev=M, tol=tol, which=SR())\n",
    "    E = Real.(decomp.eigenvalues)\n",
    "    ψ₀ = decomp.Q[:,1]\n",
    "    nᶠ, nᵇ = GetDensities(BFLabels, ψ₀)\n",
    "    append!(E_list, [E])\n",
    "    append!(nᵇ_list, [nᵇ])\n",
    "    append!(nᶠ_list, [nᶠ])\n",
    "end\n",
    "\n",
    "E_list = reduce(vcat,transpose.(E_list))\n",
    "nᵇ_list = reduce(vcat,transpose.(nᵇ_list))\n",
    "nᶠ_list = reduce(vcat,transpose.(nᶠ_list))\n",
    "println()"
   ]
  },
  {
   "cell_type": "code",
   "execution_count": null,
   "id": "62a1be8c-1aca-4171-8501-8ff96d87ec02",
   "metadata": {},
   "outputs": [],
   "source": [
    "\n",
    "    plot(UBB_list, E_list[:,n]-E_list[:,1], marker=\"o\", color=\"tab:blue\")\n",
    "end\n",
    "for n in L+1:2*L\n",
    "    plot(UBB_list, E_list[:,n]-E_list[:,1], marker=\"o\", color=\"tab:orange\")\n",
    "end\n",
    "for n in 2*L+1:3*L\n",
    "    plot(UBB_list, E_list[:,n]-E_list[:,1], marker=\"o\", color=\"tab:red\")\n",
    "end\n",
    "title(\"UBF=∞\")\n",
    "xlabel(\"UBB\")\n",
    "ylabel(\"E-E₀\")"
   ]
  },
  {
   "cell_type": "markdown",
   "id": "e65b394c-41bc-4f75-a754-3eaa7cf75d29",
   "metadata": {
    "jp-MarkdownHeadingCollapsed": true
   },
   "source": [
    "# Semi periodic 2"
   ]
  },
  {
   "cell_type": "code",
   "execution_count": null,
   "id": "80d033cd-8a27-4c92-9fc9-641eb6b12a8e",
   "metadata": {},
   "outputs": [],
   "source": [
    "L = 5\n",
    "NB = L\n",
    "NF = 2\n",
    "t = 1\n",
    "UBB_list = collect(LinRange(0,5,50))\n",
    "UBF = 0\n",
    "pB = false\n",
    "pF = false\n",
    "\n",
    "M=3*L\n",
    "tol=1e-8\n",
    "\n",
    "\n",
    "BFLabels = BoseFermiLabels(L, NB, NF, true)\n",
    "println(\"Hilbert Space: \", length(BFLabels))\n",
    "\n",
    "E_list = []\n",
    "nᵇ_list = []\n",
    "nᶠ_list = []\n",
    "\n",
    "for UBB in UBB_list\n",
    "    HBF = BoseFermiHubbard(BFLabels, t, UBB, UBF, pB, pF)\n",
    "    HBF = Matrix(HBF)\n",
    "    E = real.(eigvals(HBF))\n",
    "    append!(E_list, [E])\n",
    "end\n",
    "E_list = reduce(vcat,transpose.(E_list))"
   ]
  },
  {
   "cell_type": "code",
   "execution_count": null,
   "id": "1939d47d-ea2c-420e-a5de-1f8c1317e241",
   "metadata": {},
   "outputs": [],
   "source": [
    "for n in 1:L\n",
    "    plot(UBB_list, E_list[:,n]-E_list[:,1], marker=\"o\", color=\"tab:blue\")\n",
    "end\n",
    "for n in L+1:2*L\n",
    "    plot(UBB_list, E_list[:,n]-E_list[:,1], marker=\"o\", color=\"tab:orange\")\n",
    "end\n",
    "for n in 2*L+1:3*L\n",
    "    plot(UBB_list, E_list[:,n]-E_list[:,1], marker=\"o\", color=\"tab:red\")\n",
    "end\n",
    "title(\"UBF=∞\")\n",
    "xlabel(\"UBB\")\n",
    "ylabel(\"E-E₀\")"
   ]
  },
  {
   "cell_type": "markdown",
   "id": "368dd0bd-100c-4688-a6e5-410b41020dbf",
   "metadata": {},
   "source": [
    "## To the limit"
   ]
  },
  {
   "cell_type": "code",
   "execution_count": null,
   "id": "8f0a790c-9680-4dd7-a3db-7220c51d03e8",
   "metadata": {},
   "outputs": [],
   "source": [
    "L = 5\n",
    "NB = L\n",
    "NF = 2\n",
    "t = 1\n",
    "UBB = 10\n",
    "UBF_list = collect(LinRange(0,200,20))\n",
    "pB = true\n",
    "pF = false\n",
    "\n",
    "M=3*L\n",
    "tol=1e-8\n",
    "\n",
    "\n",
    "BFLabels = BoseFermiLabels(L, NB, NF)\n",
    "println(\"Hilbert Space: \", length(BFLabels))\n",
    "\n",
    "E_list = []\n",
    "nᵇ_list = []\n",
    "nᶠ_list = []\n",
    "\n",
    "for UBF in UBF_list\n",
    "    HBF = BoseFermiHubbard(BFLabels, t, UBB, UBF, pB, pF)\n",
    "    decomp, history = partialschur(HBF, nev=M, tol=tol, which=SR())\n",
    "    E = Real.(decomp.eigenvalues)\n",
    "    ψ₀ = decomp.Q[:,1]\n",
    "    nᶠ, nᵇ = GetDensities(BFLabels, ψ₀)\n",
    "    append!(E_list, [E])\n",
    "    append!(nᵇ_list, [nᵇ])\n",
    "    append!(nᶠ_list, [nᶠ])\n",
    "end\n",
    "\n",
    "BFLabels = BoseFermiLabels(L, NB, NF, true)\n",
    "println(\"Hilbert Space: \", length(BFLabels))\n",
    "\n",
    "for UBF in [UBF_list[end]*1.1]\n",
    "    HBF = BoseFermiHubbard(BFLabels, t, UBB, UBF, pB, pF)\n",
    "    decomp, history = partialschur(HBF, nev=M, tol=tol, which=SR())\n",
    "    E = Real.(decomp.eigenvalues)\n",
    "    ψ₀ = decomp.Q[:,1]\n",
    "    nᶠ, nᵇ = GetDensities(BFLabels, ψ₀)\n",
    "    append!(UBF_list, UBF)\n",
    "    append!(E_list, [E])\n",
    "    append!(nᵇ_list, [nᵇ])\n",
    "    append!(nᶠ_list, [nᶠ])\n",
    "end\n",
    "\n",
    "E_list = reduce(vcat,transpose.(E_list))\n",
    "nᵇ_list = reduce(vcat,transpose.(nᵇ_list))\n",
    "nᶠ_list = reduce(vcat,transpose.(nᶠ_list))\n",
    "println()"
   ]
  },
  {
   "cell_type": "code",
   "execution_count": null,
   "id": "879191b8-9ad9-4871-b2aa-1496712e80c6",
   "metadata": {},
   "outputs": [],
   "source": [
    "for n in 1:L\n",
    "    plot(UBF_list, E_list[:,n]-E_list[:,1], marker=\"o\", color=\"tab:blue\")\n",
    "end\n",
    "for n in L+1:2*L\n",
    "    plot(UBF_list, E_list[:,n]-E_list[:,1], marker=\"o\", color=\"tab:orange\")\n",
    "end\n",
    "for n in 2*L+1:3*L\n",
    "    plot(UBF_list, E_list[:,n]-E_list[:,1], marker=\"o\", color=\"tab:red\")\n",
    "end\n",
    "title(\"UBB=\"*string(UBB))\n",
    "xlabel(\"UBF\")\n",
    "ylabel(\"E-E₀\")"
   ]
  },
  {
   "cell_type": "code",
   "execution_count": null,
   "id": "eb70be18-008b-4e8b-b876-5619472cae1e",
   "metadata": {},
   "outputs": [],
   "source": [
    "fig, axs = subplots(1, 2)\n",
    "\n",
    "cm = get_cmap(:jet)\n",
    "colorrange = collect(0:length(UBF_list)-1)./length(UBF_list)\n",
    "for ii in 1:length(UBF_list)-1\n",
    "    axs[1].plot(1:L, nᶠ_list[ii,:], marker=\"o\", color=cm(colorrange[ii]))\n",
    "    axs[2].plot(1:L, nᵇ_list[ii,:], marker=\"o\", color=cm(colorrange[ii]))\n",
    "end\n",
    "\n",
    "axs[1].plot(1:L, nᶠ_list[end,:], marker=\"x\", color=cm(colorrange[end]))\n",
    "axs[2].plot(1:L, nᵇ_list[end,:], marker=\"x\", color=cm(colorrange[end]))\n",
    "\n",
    "axs[1].set_xlim(0,L+1)\n",
    "axs[2].set_xlim(0,L+1)\n",
    "axs[1].set_title(\"Bosons\")\n",
    "axs[2].set_title(\"Fermions\")\n",
    "axs[1].set_ylabel(\"<n^F_j>\")\n",
    "axs[2].set_ylabel(\"<n^B_j>\")\n",
    "axs[1].set_xlabel(\"j\")\n",
    "axs[2].set_xlabel(\"j\")\n",
    "fig.suptitle(\"UBB=\"*string(UBB))\n",
    "tight_layout()"
   ]
  },
  {
   "cell_type": "markdown",
   "id": "b5c79aaa-08d4-44f4-8a84-6091b0b46fec",
   "metadata": {},
   "source": [
    "## Periodic"
   ]
  },
  {
   "cell_type": "code",
   "execution_count": null,
   "id": "c86b94c0-c71d-4a45-9c3a-e868d5d6fe91",
   "metadata": {},
   "outputs": [],
   "source": [
    "L = 5\n",
    "NB = L\n",
    "NF = 2\n",
    "t = 1\n",
    "UBB_list = collect(LinRange(0,1000,50))\n",
    "UBF = 0\n",
    "pB = true\n",
    "pF = false\n",
    "\n",
    "M=L\n",
    "tol=1e-8\n",
    "\n",
    "\n",
    "BFLabels = BoseFermiLabels(L, NB, NF, true)\n",
    "println(\"Hilbert Space: \", length(BFLabels))\n",
    "\n",
    "E_list = []\n",
    "nᵇ_list = []\n",
    "nᶠ_list = []\n",
    "\n",
    "for UBB in UBB_list\n",
    "    HBF = BoseFermiHubbard(BFLabels, t, UBB, UBF, pB, pF)\n",
    "    decomp, history = partialschur(HBF, nev=M, tol=tol, which=SR())\n",
    "    E = real.(decomp.eigenvalues)\n",
    "    ψ₀ = decomp.Q[:,1]\n",
    "    nᶠ, nᵇ = GetDensities(BFLabels, ψ₀)\n",
    "    append!(E_list, [E])\n",
    "    append!(nᵇ_list, [nᵇ])\n",
    "    append!(nᶠ_list, [nᶠ])\n",
    "end\n",
    "\n",
    "E_list = reduce(vcat,transpose.(E_list))\n",
    "nᵇ_list = reduce(vcat,transpose.(nᵇ_list))\n",
    "nᶠ_list = reduce(vcat,transpose.(nᶠ_list))\n",
    "println()"
   ]
  },
  {
   "cell_type": "code",
   "execution_count": null,
   "id": "94fb74bb-cee4-4744-b674-10ce92db57e1",
   "metadata": {},
   "outputs": [],
   "source": [
    "for n in 1:M\n",
    "    plot(UBB_list, E_list[:,n]-E_list[:,1], marker=\"o\")\n",
    "end\n",
    "\n",
    "title(\"UBF=∞\")\n",
    "xlabel(\"UBB\")\n",
    "ylabel(\"E-E₀\")"
   ]
  },
  {
   "cell_type": "code",
   "execution_count": null,
   "id": "eaae9401-4e9d-4e1e-b96b-a27cd7b1e342",
   "metadata": {},
   "outputs": [],
   "source": [
    "fig, axs = subplots(1, 2)\n",
    "\n",
    "cm = get_cmap(:jet)\n",
    "colorrange = collect(0:length(UBB_list)-1)./length(UBB_list)\n",
    "for ii in 1:length(UBB_list)-1\n",
    "    axs[1].plot(1:L, nᶠ_list[ii,:], marker=\"o\", color=cm(colorrange[ii]))\n",
    "    axs[2].plot(1:L, nᵇ_list[ii,:], marker=\"o\", color=cm(colorrange[ii]))\n",
    "end\n",
    "\n",
    "axs[1].plot(1:L, nᶠ_list[end,:], marker=\"x\", color=cm(colorrange[end]))\n",
    "axs[2].plot(1:L, nᵇ_list[end,:], marker=\"x\", color=cm(colorrange[end]))\n",
    "\n",
    "axs[1].set_xlim(0,L+1)\n",
    "axs[2].set_xlim(0,L+1)\n",
    "axs[1].set_title(\"Bosons\")\n",
    "axs[2].set_title(\"Fermions\")\n",
    "axs[1].set_ylabel(\"<n^F_j>\")\n",
    "axs[2].set_ylabel(\"<n^B_j>\")\n",
    "axs[1].set_xlabel(\"j\")\n",
    "axs[2].set_xlabel(\"j\")\n",
    "fig.suptitle(\"UBF=∞\")\n",
    "tight_layout()"
   ]
  },
  {
   "cell_type": "code",
   "execution_count": null,
   "id": "eb0df584-ec3d-4988-ae3e-f49e3f55314e",
   "metadata": {},
   "outputs": [],
   "source": [
    "L = 5\n",
    "NB = L\n",
    "NF = 2\n",
    "t = 1\n",
    "UBB_list = collect(LinRange(0,5,20))\n",
    "UBF = 0\n",
    "pB = true\n",
    "pF = true\n",
    "\n",
    "M=2*L\n",
    "tol=1e-8\n",
    "\n",
    "\n",
    "BFLabels = BoseFermiLabels(L, NB, NF, true)\n",
    "println(\"Hilbert Space: \", length(BFLabels))\n",
    "\n",
    "E_list = []\n",
    "nᵇ_list = []\n",
    "nᶠ_list = []\n",
    "\n",
    "for UBB in UBB_list\n",
    "    HBF = BoseFermiHubbard(BFLabels, t, UBB, UBF, pB, pF)\n",
    "    decomp, history = partialschur(HBF, nev=M, tol=tol, which=SR())\n",
    "    E = Real.(decomp.eigenvalues)\n",
    "    ψ₀ = decomp.Q[:,1]\n",
    "    nᶠ, nᵇ = GetDensities(BFLabels, ψ₀)\n",
    "    append!(E_list, [E])\n",
    "    append!(nᵇ_list, [nᵇ])\n",
    "    append!(nᶠ_list, [nᶠ])\n",
    "end\n",
    "\n",
    "E_list = reduce(vcat,transpose.(E_list))\n",
    "nᵇ_list = reduce(vcat,transpose.(nᵇ_list))\n",
    "nᶠ_list = reduce(vcat,transpose.(nᶠ_list))"
   ]
  },
  {
   "cell_type": "code",
   "execution_count": null,
   "id": "337384cb-4ba0-4b3e-a41d-5259c6283890",
   "metadata": {
    "scrolled": true
   },
   "outputs": [],
   "source": [
    "for n in 1:M\n",
    "    plot(UBB_list, E_list[:,n]-E_list[:,1], marker=\"o\")\n",
    "end"
   ]
  },
  {
   "cell_type": "markdown",
   "id": "ec7dffc9-a127-4a70-8272-a41016ff20c2",
   "metadata": {},
   "source": [
    "## To the limit2"
   ]
  },
  {
   "cell_type": "code",
   "execution_count": null,
   "id": "1689b597-8e76-47c3-bc45-3b713e7cfff6",
   "metadata": {},
   "outputs": [],
   "source": [
    "L = 5\n",
    "NB = L\n",
    "NF = 2\n",
    "t = 1\n",
    "UBB = 2\n",
    "UBF_list = collect(LinRange(0,200,20))\n",
    "pB = true\n",
    "pF = false\n",
    "\n",
    "M=3*L\n",
    "tol=1e-8\n",
    "\n",
    "\n",
    "BFLabels = BoseFermiLabels(L, NB, NF)\n",
    "println(\"Hilbert Space: \", length(BFLabels))\n",
    "\n",
    "E_list = []\n",
    "nᵇ_list = []\n",
    "nᶠ_list = []\n",
    "\n",
    "for UBF in UBF_list\n",
    "    HBF = BoseFermiHubbard(BFLabels, t, UBB, UBF, pB, pF)\n",
    "    HBF = Matrix(HBF)\n",
    "    E = real.(eigvals(HBF))\n",
    "    append!(E_list, [E])\n",
    "end\n",
    "\n",
    "#BFLabels = BoseFermiLabels(L, NB, NF, true)\n",
    "#println(\"Hilbert Space: \", length(BFLabels))\n",
    "\n",
    "#for UBF in [UBF_list[end]*1.1]\n",
    "#    HBF = BoseFermiHubbard(BFLabels, t, UBB, UBF, pB, pF)\n",
    "#    HBF = Matrix(HBF)\n",
    "#    E = real.(eigvals(HBF))\n",
    "#    append!(E_list, [E])\n",
    "#    append!(UBF_list, UBF)\n",
    "#end\n",
    "\n",
    "E_list = reduce(vcat,transpose.(E_list))\n",
    "println()"
   ]
  },
  {
   "cell_type": "code",
   "execution_count": null,
   "id": "75ab2e18-9a19-4bef-afb8-1502211b8569",
   "metadata": {},
   "outputs": [],
   "source": [
    "for n in 1:L\n",
    "    plot(UBF_list, E_list[:,n]-E_list[:,1], marker=\"o\", color=\"tab:blue\")\n",
    "end\n",
    "for n in L+1:2*L\n",
    "    plot(UBF_list, E_list[:,n]-E_list[:,1], marker=\"o\", color=\"tab:orange\")\n",
    "end\n",
    "for n in 2*L+1:3*L\n",
    "    plot(UBF_list, E_list[:,n]-E_list[:,1], marker=\"o\", color=\"tab:red\")\n",
    "end\n",
    "title(\"UBB=\"*string(UBB))\n",
    "xlabel(\"UBF\")\n",
    "ylabel(\"E-E₀\")"
   ]
  }
 ],
 "metadata": {
  "kernelspec": {
   "display_name": "Julia 1.9.2",
   "language": "julia",
   "name": "julia-1.9"
  },
  "language_info": {
   "file_extension": ".jl",
   "mimetype": "application/julia",
   "name": "julia",
   "version": "1.9.2"
  }
 },
 "nbformat": 4,
 "nbformat_minor": 5
}
